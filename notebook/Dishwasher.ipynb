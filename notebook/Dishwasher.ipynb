{
 "cells": [
  {
   "cell_type": "markdown",
   "metadata": {},
   "source": [
    "# Dishwasher project\n",
    "Take a real world example and solve it with the technology __at my finger tips__.\n"
   ]
  },
  {
   "cell_type": "markdown",
   "metadata": {},
   "source": [
    "## How it works\n",
    "\n",
    "### Usage\n",
    "1. Push the on/off button\n",
    "2. Select a program\n",
    "3. Select options\n",
    "4. Start the program\n",
    "5. Run the program\n",
    "\n",
    "#### Push the on/off button\n",
    "* If you push the on/off button you turn on the unit.\n",
    "* If the unit is on, you can select a program. \n",
    "* One program, number 3 is already selected. \n",
    "\n",
    "* If you push the button again, the unit is turned off.\n",
    "\n",
    "#### Select a program\n",
    "* You select a program with a push button.\n",
    "* You can select one of 6 programs.\n",
    "* When you select a program, a led over it's push button flashes.\n",
    "* After program selection, the time needed is displayed. \n",
    "\n",
    "#### Select options\n",
    "to be done later.\n",
    "\n",
    "#### Start the program\n",
    "* You start the program with a push button.\n",
    "* The door must be closed to start the program.\n",
    "* When you start the program it's led is turned on without flashing,\n",
    "* If you hold the start button longer than 3 seconds, the unit resets.\n",
    "\n",
    "#### Run the program\n",
    "* The remaining time is shown on a display."
   ]
  },
  {
   "cell_type": "markdown",
   "metadata": {},
   "source": [
    "### Sensors\n",
    "#### Hardware\n",
    "* Door closed\n",
    "* Water available\n",
    "* Dish salt available\n",
    "* Dish liquid available\n",
    "\n",
    "#### Error indicators\n",
    "* Errors are indicated with a led turned on.\n",
    "* At normal operation the led is off.\n",
    "* For water sensor there's a led.\n",
    "* For dish salt sensor there's a led.\n",
    "* For dish liquid sensor there's a led.\n",
    "* If the sensor detects an error, that led is turned on.\n",
    "\n",
    "#### Start the program\n",
    "* if the door is not closed, you can't start the program.\n",
    "* if dish salt is not available, you can start the program. \n",
    "* if dish liquid is not available, you can start the program.\n",
    "\n",
    "#### Run the program\n",
    "* if youwater is not available, the program stops.\n",
    "* there are other error conditions to be described.\n"
   ]
  },
  {
   "cell_type": "markdown",
   "metadata": {},
   "source": [
    "## Use a microcontroller\n",
    "\n",
    "### Components\n",
    "* One on/off button.\n",
    "* Six program selection buttons\n",
    "* Six program selection leds\n",
    "* One display to show the time needed.\n",
    "* One start button.\n",
    "* Three sensor leds\n",
    "\n",
    "### Software setup\n",
    "\n",
    "#### On/Off button\n",
    "* one digital input pin with INPUTPULL\n",
    "\n",
    "#### Program selection button\n",
    "* one analog pin for all buttons\n",
    "* select button based on voltage level corresponding to resistor value with delta\n",
    "\n",
    "#### Program selection led\n",
    "* 3 digital pins to handle74HC595 shift register\n",
    "* function to flash selected led\n",
    "* function to set selected led\n",
    "\n",
    "#### Display to show the time\n",
    "* 2 digital pins to handle TM1637\n",
    "* function to flash display\n",
    "* function to set display\n",
    "\n",
    "#### Start button\n",
    "* one digital input pin with INPUTPULL\n",
    "* function to measure time press to detect start and (100 ms) reset and (3000 ms) \n",
    "\n",
    "#### Sensor leds\n",
    "* 3 digital output pins\n",
    "\n",
    "#### Sensors\n",
    "to be specified later\n",
    "\n",
    "#### Recipes\n",
    "* Storage of program durations.\n"
   ]
  },
  {
   "cell_type": "markdown",
   "metadata": {},
   "source": [
    "### Hardware setup\n",
    "\n",
    "#### On/Off button\n",
    "* 1 push button\n",
    "* 1 capacitor 100 nF for smooth debouncing\n",
    "\n",
    "#### Program selection button\n",
    "* 6 push button\n",
    "* 100 &Omega;, 220 &Omega;, 470 &Omega;, 1K &Omega;, 2k2 &Omega;, 4k7 &Omega; and 10k &Omega; resistor\n",
    "* 1 capacitor for smooth debouncing\n",
    "\n",
    "#### Program selection led\n",
    "* 6 red leds\n",
    "* 6 220 &Omega; resistor\n",
    "* 1 74HC595 shift register\n",
    "\n",
    "#### Display to show the time\n",
    "* 1 TM1637 4 digit 7 segment clock display\n",
    "\n",
    "#### Start button\n",
    "* 1 push button\n",
    "* 1 capacitor 100 nF for smooth debouncing\n",
    "\n",
    "#### Sensor leds\n",
    "* 3 red leds\n",
    "* 3 220 &Omega; resistor\n",
    "\n",
    "#### Sensors\n",
    "to be specified later\n"
   ]
  },
  {
   "cell_type": "markdown",
   "metadata": {},
   "source": [
    "### Software setup\n",
    "\n",
    "#### On/Off button\n",
    "* one digital input pin with INPUTPULL\n",
    "\n",
    "#### Program selection button\n",
    "* one analog pin for all buttons\n",
    "* select button based on voltage level corresponding to resistor value with delta\n",
    "\n",
    "#### Program selection led\n",
    "* 3 digital pins to handle74HC595 shift register\n",
    "* function to flash selected led\n",
    "* function to set selected led\n",
    "\n",
    "#### Display to show the time\n",
    "* 2 digital pins to handle TM1637\n",
    "* function to flash display\n",
    "* function to set display\n",
    "\n",
    "#### Start button\n",
    "* one digital input pin with INPUTPULL\n",
    "* function to measure time press to detect start and (100 ms) reset and (3000 ms) \n",
    "\n",
    "#### Sensor leds\n",
    "* 3 digital output pins\n",
    "\n",
    "#### Sensors\n",
    "to be specified later\n",
    "\n",
    "#### Recipes\n",
    "* Storage of program durations.\n"
   ]
  },
  {
   "cell_type": "markdown",
   "metadata": {},
   "source": [
    "### Operation states\n",
    "#### off\n",
    "#### on\n",
    "#### program selection\n",
    "#### started\n",
    "#### reseted\n",
    "\n",
    "### Error states\n",
    "#### door opened\n",
    "#### dish salt missing\n",
    "#### dish liquid mising\n",
    "#### no water"
   ]
  },
  {
   "cell_type": "markdown",
   "metadata": {},
   "source": [
    "## Use hardware only"
   ]
  },
  {
   "cell_type": "markdown",
   "metadata": {},
   "source": [
    "## Use fpga"
   ]
  },
  {
   "cell_type": "markdown",
   "metadata": {},
   "source": [
    "## Use quantum computer"
   ]
  },
  {
   "cell_type": "code",
   "execution_count": null,
   "metadata": {},
   "outputs": [],
   "source": []
  }
 ],
 "metadata": {
  "kernelspec": {
   "display_name": "Python 3",
   "language": "python",
   "name": "python3"
  },
  "language_info": {
   "codemirror_mode": {
    "name": "ipython",
    "version": 3
   },
   "file_extension": ".py",
   "mimetype": "text/x-python",
   "name": "python",
   "nbconvert_exporter": "python",
   "pygments_lexer": "ipython3",
   "version": "3.8.3"
  }
 },
 "nbformat": 4,
 "nbformat_minor": 4
}
